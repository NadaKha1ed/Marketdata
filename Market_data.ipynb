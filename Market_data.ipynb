{
 "cells": [
  {
   "cell_type": "code",
   "execution_count": 16,
   "id": "ea1f6705-6122-4124-bf97-6c68fcd44e85",
   "metadata": {},
   "outputs": [
    {
     "data": {
      "text/html": [
       "<div>\n",
       "<style scoped>\n",
       "    .dataframe tbody tr th:only-of-type {\n",
       "        vertical-align: middle;\n",
       "    }\n",
       "\n",
       "    .dataframe tbody tr th {\n",
       "        vertical-align: top;\n",
       "    }\n",
       "\n",
       "    .dataframe thead th {\n",
       "        text-align: right;\n",
       "    }\n",
       "</style>\n",
       "<table border=\"1\" class=\"dataframe\">\n",
       "  <thead>\n",
       "    <tr style=\"text-align: right;\">\n",
       "      <th></th>\n",
       "      <th>Maket ID</th>\n",
       "      <th>Startup Type</th>\n",
       "      <th>Company Size</th>\n",
       "      <th>Challenges</th>\n",
       "      <th>Marketing Strategy</th>\n",
       "      <th>Years in Market</th>\n",
       "    </tr>\n",
       "  </thead>\n",
       "  <tbody>\n",
       "    <tr>\n",
       "      <th>0</th>\n",
       "      <td>1</td>\n",
       "      <td>AgriTech</td>\n",
       "      <td>326</td>\n",
       "      <td>Market Competition</td>\n",
       "      <td>Social Media Marketing</td>\n",
       "      <td>2.0</td>\n",
       "    </tr>\n",
       "    <tr>\n",
       "      <th>1</th>\n",
       "      <td>2</td>\n",
       "      <td>FinTech</td>\n",
       "      <td>249</td>\n",
       "      <td>Market Competition</td>\n",
       "      <td>Social Media Marketing</td>\n",
       "      <td>3.0</td>\n",
       "    </tr>\n",
       "    <tr>\n",
       "      <th>2</th>\n",
       "      <td>3</td>\n",
       "      <td>FinTech</td>\n",
       "      <td>915</td>\n",
       "      <td>Product Development Issues</td>\n",
       "      <td>Content Marketing</td>\n",
       "      <td>2.0</td>\n",
       "    </tr>\n",
       "    <tr>\n",
       "      <th>3</th>\n",
       "      <td>4</td>\n",
       "      <td>RetailTech</td>\n",
       "      <td>620</td>\n",
       "      <td>Scaling and Growth</td>\n",
       "      <td>Direct Marketing</td>\n",
       "      <td>2.0</td>\n",
       "    </tr>\n",
       "    <tr>\n",
       "      <th>4</th>\n",
       "      <td>5</td>\n",
       "      <td>RetailTech</td>\n",
       "      <td>609</td>\n",
       "      <td>Financial Constraints</td>\n",
       "      <td>Content Marketing</td>\n",
       "      <td>1.0</td>\n",
       "    </tr>\n",
       "  </tbody>\n",
       "</table>\n",
       "</div>"
      ],
      "text/plain": [
       "   Maket ID Startup Type  Company Size                  Challenges  \\\n",
       "0         1     AgriTech           326          Market Competition   \n",
       "1         2      FinTech           249          Market Competition   \n",
       "2         3      FinTech           915  Product Development Issues   \n",
       "3         4   RetailTech           620          Scaling and Growth   \n",
       "4         5   RetailTech           609       Financial Constraints   \n",
       "\n",
       "       Marketing Strategy  Years in Market  \n",
       "0  Social Media Marketing              2.0  \n",
       "1  Social Media Marketing              3.0  \n",
       "2       Content Marketing              2.0  \n",
       "3        Direct Marketing              2.0  \n",
       "4       Content Marketing              1.0  "
      ]
     },
     "execution_count": 16,
     "metadata": {},
     "output_type": "execute_result"
    }
   ],
   "source": [
    "import pandas as pd\n",
    "import numpy as np\n",
    "import matplotlib.pyplot as plt \n",
    "import seaborn as sns \n",
    "\n",
    "df1 = pd.read_excel('Market Table.xlsx')\n",
    "df1.head()"
   ]
  },
  {
   "cell_type": "code",
   "execution_count": 18,
   "id": "8ce508db-5654-43dc-9521-4061855b7ee7",
   "metadata": {},
   "outputs": [
    {
     "data": {
      "text/html": [
       "<div>\n",
       "<style scoped>\n",
       "    .dataframe tbody tr th:only-of-type {\n",
       "        vertical-align: middle;\n",
       "    }\n",
       "\n",
       "    .dataframe tbody tr th {\n",
       "        vertical-align: top;\n",
       "    }\n",
       "\n",
       "    .dataframe thead th {\n",
       "        text-align: right;\n",
       "    }\n",
       "</style>\n",
       "<table border=\"1\" class=\"dataframe\">\n",
       "  <thead>\n",
       "    <tr style=\"text-align: right;\">\n",
       "      <th></th>\n",
       "      <th>Maket ID</th>\n",
       "      <th>Startup Type</th>\n",
       "      <th>Company Size</th>\n",
       "      <th>Challenges</th>\n",
       "      <th>Marketing Strategy</th>\n",
       "      <th>Years in Market</th>\n",
       "    </tr>\n",
       "  </thead>\n",
       "  <tbody>\n",
       "    <tr>\n",
       "      <th>1998</th>\n",
       "      <td>1999</td>\n",
       "      <td>EdTech</td>\n",
       "      <td>928</td>\n",
       "      <td>Scaling and Growth</td>\n",
       "      <td>Influencer Marketing</td>\n",
       "      <td>1.0</td>\n",
       "    </tr>\n",
       "    <tr>\n",
       "      <th>1999</th>\n",
       "      <td>2000</td>\n",
       "      <td>FoodTech</td>\n",
       "      <td>184</td>\n",
       "      <td>Financial Constraints</td>\n",
       "      <td>Direct Marketing</td>\n",
       "      <td>2.0</td>\n",
       "    </tr>\n",
       "  </tbody>\n",
       "</table>\n",
       "</div>"
      ],
      "text/plain": [
       "      Maket ID Startup Type  Company Size             Challenges  \\\n",
       "1998      1999       EdTech           928     Scaling and Growth   \n",
       "1999      2000     FoodTech           184  Financial Constraints   \n",
       "\n",
       "        Marketing Strategy  Years in Market  \n",
       "1998  Influencer Marketing              1.0  \n",
       "1999      Direct Marketing              2.0  "
      ]
     },
     "execution_count": 18,
     "metadata": {},
     "output_type": "execute_result"
    }
   ],
   "source": [
    "df1.tail(2)"
   ]
  },
  {
   "cell_type": "code",
   "execution_count": 20,
   "id": "b4b31ab5-1970-4ff3-8a24-58eee417b0db",
   "metadata": {},
   "outputs": [
    {
     "name": "stdout",
     "output_type": "stream",
     "text": [
      "<class 'pandas.core.frame.DataFrame'>\n",
      "RangeIndex: 2000 entries, 0 to 1999\n",
      "Data columns (total 6 columns):\n",
      " #   Column              Non-Null Count  Dtype  \n",
      "---  ------              --------------  -----  \n",
      " 0   Maket ID            2000 non-null   int64  \n",
      " 1   Startup Type        2000 non-null   object \n",
      " 2   Company Size        2000 non-null   int64  \n",
      " 3   Challenges          2000 non-null   object \n",
      " 4   Marketing Strategy  2000 non-null   object \n",
      " 5   Years in Market     1995 non-null   float64\n",
      "dtypes: float64(1), int64(2), object(3)\n",
      "memory usage: 93.9+ KB\n"
     ]
    }
   ],
   "source": [
    "df1.info()"
   ]
  },
  {
   "cell_type": "code",
   "execution_count": 22,
   "id": "5b8269c4-e76d-449f-84dc-dacdb3a77a99",
   "metadata": {},
   "outputs": [
    {
     "data": {
      "text/plain": [
       "(2000, 6)"
      ]
     },
     "execution_count": 22,
     "metadata": {},
     "output_type": "execute_result"
    }
   ],
   "source": [
    "df1.shape"
   ]
  },
  {
   "cell_type": "code",
   "execution_count": 26,
   "id": "1fa41073-9e15-4c56-954d-37342f54bca0",
   "metadata": {},
   "outputs": [
    {
     "data": {
      "text/plain": [
       "0"
      ]
     },
     "execution_count": 26,
     "metadata": {},
     "output_type": "execute_result"
    }
   ],
   "source": [
    "df1.duplicated().sum()"
   ]
  },
  {
   "cell_type": "code",
   "execution_count": 28,
   "id": "86c292bd-865c-4ab7-bd80-60f2da0d68e0",
   "metadata": {},
   "outputs": [
    {
     "data": {
      "text/plain": [
       "Maket ID              0\n",
       "Startup Type          0\n",
       "Company Size          0\n",
       "Challenges            0\n",
       "Marketing Strategy    0\n",
       "Years in Market       5\n",
       "dtype: int64"
      ]
     },
     "execution_count": 28,
     "metadata": {},
     "output_type": "execute_result"
    }
   ],
   "source": [
    "df1.isna().sum()"
   ]
  },
  {
   "cell_type": "code",
   "execution_count": 30,
   "id": "a874863f-3406-4829-975c-5131382c65b4",
   "metadata": {},
   "outputs": [
    {
     "data": {
      "text/plain": [
       "Maket ID              0\n",
       "Startup Type          0\n",
       "Company Size          0\n",
       "Challenges            0\n",
       "Marketing Strategy    0\n",
       "Years in Market       5\n",
       "dtype: int64"
      ]
     },
     "execution_count": 30,
     "metadata": {},
     "output_type": "execute_result"
    }
   ],
   "source": [
    "df1.isnull().sum()"
   ]
  },
  {
   "cell_type": "code",
   "execution_count": 34,
   "id": "7c718857-2cee-48ea-bfe6-c567b5c4e282",
   "metadata": {},
   "outputs": [
    {
     "data": {
      "text/plain": [
       "3"
      ]
     },
     "execution_count": 34,
     "metadata": {},
     "output_type": "execute_result"
    }
   ],
   "source": [
    "df1['Years in Market'].nunique()"
   ]
  },
  {
   "cell_type": "code",
   "execution_count": 36,
   "id": "f737eb91-a7ad-47de-ae57-f7b09c1472b2",
   "metadata": {},
   "outputs": [
    {
     "data": {
      "text/plain": [
       "array([ 2.,  3.,  1., nan])"
      ]
     },
     "execution_count": 36,
     "metadata": {},
     "output_type": "execute_result"
    }
   ],
   "source": [
    "df1['Years in Market'].unique()"
   ]
  },
  {
   "cell_type": "code",
   "execution_count": 48,
   "id": "5633dc65-f2aa-40ab-a3cd-7b4bcaf4f9cf",
   "metadata": {},
   "outputs": [
    {
     "data": {
      "text/plain": [
       "Maket ID              0\n",
       "Startup Type          0\n",
       "Company Size          0\n",
       "Challenges            0\n",
       "Marketing Strategy    0\n",
       "Years in Market       0\n",
       "dtype: int64"
      ]
     },
     "execution_count": 48,
     "metadata": {},
     "output_type": "execute_result"
    }
   ],
   "source": [
    "df1['Years in Market'] = df1['Years in Market'].fillna (df1['Years in Market'].shift(1))   \n",
    "df1.isnull().sum()"
   ]
  },
  {
   "cell_type": "code",
   "execution_count": 56,
   "id": "5d5ce8fd-d8c9-44b3-955e-077dfe03ebbd",
   "metadata": {},
   "outputs": [
    {
     "name": "stdout",
     "output_type": "stream",
     "text": [
      "int32\n"
     ]
    }
   ],
   "source": [
    "df1['Years in Market'] = df1['Years in Market'].astype(int)\n",
    "print(df1['Years in Market'].dtype)"
   ]
  },
  {
   "cell_type": "code",
   "execution_count": 78,
   "id": "1ade7bd4-780b-4f1b-b4ff-7d22c5ad7996",
   "metadata": {},
   "outputs": [
    {
     "name": "stdout",
     "output_type": "stream",
     "text": [
      "int8\n"
     ]
    }
   ],
   "source": [
    "df1['Years in Market'] = df1['Years in Market'].astype('int8')\n",
    "print(df1['Years in Market'].dtype )"
   ]
  },
  {
   "cell_type": "code",
   "execution_count": 74,
   "id": "95bf2838-c586-4350-be6e-ae22917bfd2d",
   "metadata": {},
   "outputs": [
    {
     "data": {
      "text/plain": [
       "Years in Market\n",
       "1    711\n",
       "3    651\n",
       "2    638\n",
       "Name: count, dtype: int64"
      ]
     },
     "execution_count": 74,
     "metadata": {},
     "output_type": "execute_result"
    }
   ],
   "source": [
    "df1['Years in Market'].value_counts()"
   ]
  },
  {
   "cell_type": "code",
   "execution_count": 80,
   "id": "a20e5cf0-7e87-4b89-9c90-3bed7ef9ba67",
   "metadata": {},
   "outputs": [
    {
     "data": {
      "text/plain": [
       "count    2000.000000\n",
       "mean      501.331500\n",
       "std       291.169663\n",
       "min      -800.000000\n",
       "25%       246.000000\n",
       "50%       507.500000\n",
       "75%       755.250000\n",
       "max      1000.000000\n",
       "Name: Company Size, dtype: float64"
      ]
     },
     "execution_count": 80,
     "metadata": {},
     "output_type": "execute_result"
    }
   ],
   "source": [
    "df1['Company Size'].describe()"
   ]
  },
  {
   "cell_type": "code",
   "execution_count": 84,
   "id": "2057d848-bf8a-4bee-8973-a8abeaa9fd58",
   "metadata": {},
   "outputs": [
    {
     "data": {
      "text/plain": [
       "count    2000.000000\n",
       "mean      502.131500\n",
       "std       289.787164\n",
       "min         5.000000\n",
       "25%       246.750000\n",
       "50%       508.000000\n",
       "75%       756.000000\n",
       "max      1000.000000\n",
       "Name: Company Size, dtype: float64"
      ]
     },
     "execution_count": 84,
     "metadata": {},
     "output_type": "execute_result"
    }
   ],
   "source": [
    "df1['Company Size'] = df1['Company Size'].replace(-800, 800)\t\n",
    "df1['Company Size'].describe()"
   ]
  },
  {
   "cell_type": "code",
   "execution_count": 98,
   "id": "b187cb8e-33c4-4101-a80c-57914b0b0d27",
   "metadata": {},
   "outputs": [
    {
     "data": {
      "text/plain": [
       "<Figure size 700x500 with 0 Axes>"
      ]
     },
     "execution_count": 98,
     "metadata": {},
     "output_type": "execute_result"
    },
    {
     "data": {
      "image/png": "[encoded data removed]",
      "text/plain": [
       "<Figure size 640x480 with 1 Axes>"
      ]
     },
     "metadata": {},
     "output_type": "display_data"
    },
    {
     "data": {
      "text/plain": [
       "<Figure size 700x500 with 0 Axes>"
      ]
     },
     "metadata": {},
     "output_type": "display_data"
    }
   ],
   "source": [
    "sns.boxplot(x = 'Company Size' , data = df1 , \n",
    "           color='#663399',\n",
    "           boxprops=dict(edgecolor='#4B0082', linewidth=1),\n",
    "           medianprops=dict(color='#8968CD', linewidth=2, linestyle = '--'), \n",
    "           whiskerprops=dict(color='#8968CD', linewidth=2),\n",
    "           capprops=dict(color='#8968CD', linewidth=2),\n",
    "           flierprops=dict(marker='.', color='yellow', markersize=10) )\n",
    "plt.title ('Boxplot For Company Size' , fontweight = 'bold')\n",
    "plt.figure(figsize = (7,5))\n"
   ]
  },
  {
   "cell_type": "code",
   "execution_count": 106,
   "id": "54024c2a-d9c6-420b-95bd-9310bab81af0",
   "metadata": {},
   "outputs": [
    {
     "data": {
      "text/html": [
       "<div>\n",
       "<style scoped>\n",
       "    .dataframe tbody tr th:only-of-type {\n",
       "        vertical-align: middle;\n",
       "    }\n",
       "\n",
       "    .dataframe tbody tr th {\n",
       "        vertical-align: top;\n",
       "    }\n",
       "\n",
       "    .dataframe thead th {\n",
       "        text-align: right;\n",
       "    }\n",
       "</style>\n",
       "<table border=\"1\" class=\"dataframe\">\n",
       "  <thead>\n",
       "    <tr style=\"text-align: right;\">\n",
       "      <th></th>\n",
       "      <th>Maket ID</th>\n",
       "      <th>Startup Type</th>\n",
       "      <th>Company Size</th>\n",
       "      <th>Challenges</th>\n",
       "      <th>Marketing Strategy</th>\n",
       "      <th>Years in Market</th>\n",
       "      <th>company_size</th>\n",
       "    </tr>\n",
       "  </thead>\n",
       "  <tbody>\n",
       "    <tr>\n",
       "      <th>0</th>\n",
       "      <td>1</td>\n",
       "      <td>AgriTech</td>\n",
       "      <td>326</td>\n",
       "      <td>Market Competition</td>\n",
       "      <td>Social Media Marketing</td>\n",
       "      <td>2</td>\n",
       "      <td>201-500</td>\n",
       "    </tr>\n",
       "    <tr>\n",
       "      <th>1</th>\n",
       "      <td>2</td>\n",
       "      <td>FinTech</td>\n",
       "      <td>249</td>\n",
       "      <td>Market Competition</td>\n",
       "      <td>Social Media Marketing</td>\n",
       "      <td>3</td>\n",
       "      <td>201-500</td>\n",
       "    </tr>\n",
       "    <tr>\n",
       "      <th>2</th>\n",
       "      <td>3</td>\n",
       "      <td>FinTech</td>\n",
       "      <td>915</td>\n",
       "      <td>Product Development Issues</td>\n",
       "      <td>Content Marketing</td>\n",
       "      <td>2</td>\n",
       "      <td>501-1000</td>\n",
       "    </tr>\n",
       "  </tbody>\n",
       "</table>\n",
       "</div>"
      ],
      "text/plain": [
       "   Maket ID Startup Type  Company Size                  Challenges  \\\n",
       "0         1     AgriTech           326          Market Competition   \n",
       "1         2      FinTech           249          Market Competition   \n",
       "2         3      FinTech           915  Product Development Issues   \n",
       "\n",
       "       Marketing Strategy  Years in Market company_size  \n",
       "0  Social Media Marketing                2      201-500  \n",
       "1  Social Media Marketing                3      201-500  \n",
       "2       Content Marketing                2     501-1000  "
      ]
     },
     "execution_count": 106,
     "metadata": {},
     "output_type": "execute_result"
    }
   ],
   "source": [
    "def company_size(size):\n",
    "    if 0 <= size <= 10:\n",
    "        return '0-10'\n",
    "    elif 10 <= size <= 50:\n",
    "        return '11-50'\n",
    "    elif 50 <= size <= 200:\n",
    "        return '51-200'\n",
    "    elif 200 <= size <= 500:\n",
    "        return '201-500'\n",
    "    elif 500 <= size <= 1000:\n",
    "        return '501-1000'\n",
    "    else: \n",
    "        return 'Other'\n",
    "df1['company_size'] = df1['Company Size'].apply(company_size)\n",
    "df1.head("
   ]
  },
  {
   "cell_type": "code",
   "execution_count": 118,
   "id": "896c9eef-6577-4158-b8c2-d29c150c0180",
   "metadata": {},
   "outputs": [
    {
     "data": {
      "text/plain": [
       "company_size\n",
       "501-1000    1009\n",
       "201-500      588\n",
       "51-200       304\n",
       "11-50         89\n",
       "0-10          10\n",
       "Name: count, dtype: int64"
      ]
     },
     "execution_count": 118,
     "metadata": {},
     "output_type": "execute_result"
    }
   ],
   "source": [
    "df1['company_size'].value_counts()"
   ]
  },
  {
   "cell_type": "code",
   "execution_count": 172,
   "id": "8eb0804c-8147-4c63-a16c-81fcc741d245",
   "metadata": {},
   "outputs": [
    {
     "data": {
      "image/png": "[encoded data removed]",
      "text/plain": [
       "<Figure size 640x480 with 1 Axes>"
      ]
     },
     "metadata": {},
     "output_type": "display_data"
    }
   ],
   "source": [
    "df1['Company Size'].hist(color = '#AFB6CF' , edgecolor = '#576575', alpha=1)\n",
    "plt.title('Size of Company Size' , fontweight='bold')\n",
    "plt.grid( axis='y' , linestyle= '--' , alpha = 0.8)"
   ]
  },
  {
   "cell_type": "code",
   "execution_count": 192,
   "id": "26870cd3-aef2-429a-929c-84fd57c622cc",
   "metadata": {},
   "outputs": [
    {
     "data": {
      "text/plain": [
       "([<matplotlib.patches.Wedge at 0x1f905ea14f0>,\n",
       "  <matplotlib.patches.Wedge at 0x1f905e9bc20>,\n",
       "  <matplotlib.patches.Wedge at 0x1f905ea1bb0>,\n",
       "  <matplotlib.patches.Wedge at 0x1f905ea1eb0>,\n",
       "  <matplotlib.patches.Wedge at 0x1f905e8c9e0>],\n",
       " [Text(-0.6950835190341631, -0.8525602040718793, '501-1000'),\n",
       "  Text(1.0647699158899304, 0.2761612322824312, '201-500'),\n",
       "  Text(-0.09242803561114261, 1.0961099663049623, '51-200'),\n",
       "  Text(-0.709856633816464, 0.8402996842952868, '11-50'),\n",
       "  Text(-0.8314386688310991, 0.720215065082903, '0-10')])"
      ]
     },
     "execution_count": 192,
     "metadata": {},
     "output_type": "execute_result"
    },
    {
     "data": {
      "image/png": "[encoded data removed]",
      "text/plain": [
       "<Figure size 640x480 with 1 Axes>"
      ]
     },
     "metadata": {},
     "output_type": "display_data"
    }
   ],
   "source": [
    "pie_chart = df1['company_size'].value_counts()\n",
    "labels = pie_chart.index\n",
    "plt.pie(pie_chart, labels = labels, colors=['#e6e600' , '#4d4d00' , '#ffffb3' ,'#ffc966'], startangle = 140) "
   ]
  },
  {
   "cell_type": "code",
   "execution_count": null,
   "id": "86cd7d99-8e4d-4b9c-9c79-f484dff6aa33",
   "metadata": {},
   "outputs": [],
   "source": [
    "df.to_excel('Updated Startup.xlsx' , index = False)"
   ]
  },
  {
   "cell_type": "code",
   "execution_count": null,
   "id": "424978ab-e4fd-41ae-804e-0a106c27384b",
   "metadata": {},
   "outputs": [],
   "source": [
    "df.to_excel('Updated Market_data.xlsx' , index = False)"
   ]
  }
 ],
 "metadata": {
  "kernelspec": {
   "display_name": "Python 3 (ipykernel)",
   "language": "python",
   "name": "python3"
  },
  "language_info": {
   "codemirror_mode": {
    "name": "ipython",
    "version": 3
   },
   "file_extension": ".py",
   "mimetype": "text/x-python",
   "name": "python",
   "nbconvert_exporter": "python",
   "pygments_lexer": "ipython3",
   "version": "3.12.7"
  }
 },
 "nbformat": 4,
 "nbformat_minor": 5
}
